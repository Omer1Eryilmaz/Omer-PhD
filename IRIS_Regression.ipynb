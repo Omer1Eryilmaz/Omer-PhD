{
  "nbformat": 4,
  "nbformat_minor": 0,
  "metadata": {
    "colab": {
      "provenance": []
    },
    "kernelspec": {
      "name": "python3",
      "display_name": "Python 3"
    },
    "language_info": {
      "name": "python"
    }
  },
  "cells": [
    {
      "cell_type": "code",
      "execution_count": 40,
      "metadata": {
        "id": "MwWp-fiSqTvT",
        "colab": {
          "base_uri": "https://localhost:8080/",
          "height": 763
        },
        "outputId": "abe21936-77be-4165-ec60-a115f24faf8e"
      },
      "outputs": [
        {
          "output_type": "stream",
          "name": "stdout",
          "text": [
            "(50,)\n",
            "(50,)\n"
          ]
        },
        {
          "output_type": "display_data",
          "data": {
            "text/plain": [
              "<Figure size 432x288 with 1 Axes>"
            ],
            "image/png": "[encoded data removed]"
          },
          "metadata": {
            "needs_background": "light"
          }
        },
        {
          "output_type": "stream",
          "name": "stdout",
          "text": [
            "data size torch.Size([50, 1])\n"
          ]
        },
        {
          "output_type": "display_data",
          "data": {
            "text/plain": [
              "<Figure size 432x288 with 1 Axes>"
            ],
            "image/png": "[encoded data removed]"
          },
          "metadata": {
            "needs_background": "light"
          }
        },
        {
          "output_type": "stream",
          "name": "stdout",
          "text": [
            "model first 5 output: tensor([[4.9459],\n",
            "        [5.1298],\n",
            "        [5.0685],\n",
            "        [4.8846],\n",
            "        [4.9459]], grad_fn=<SliceBackward0>) \n",
            "label: tensor([[5.4000],\n",
            "        [5.1000],\n",
            "        [4.6000],\n",
            "        [5.1000],\n",
            "        [4.8000]], grad_fn=<SliceBackward0>)\n",
            "loss: 0.19650036096572876\n"
          ]
        }
      ],
      "source": [
        "import numpy as np\n",
        "import torch\n",
        "import torch.nn as nn\n",
        "import matplotlib.pyplot as plt\n",
        "from sklearn.datasets import load_iris\n",
        "import sklearn\n",
        "import pandas as pd\n",
        "data = load_iris()\n",
        "data.target[[110, 65, 50]] # 0-50 arasi 0, 51-100 1, 101-149 2 bunlar indis\n",
        "list(data.target_names)\n",
        "\n",
        "data,target = sklearn.datasets.load_iris(return_X_y=True, as_frame=False)\n",
        "\n",
        "from sklearn.preprocessing import StandardScaler\n",
        "\n",
        "x = data[0:50,1]\n",
        "y = data[0:50,0]\n",
        "print(x.shape)\n",
        "print(y.shape)\n",
        "\n",
        "plt.plot(x,y,'ro')\n",
        "plt.show()\n",
        "\n",
        "x = torch.tensor(x, requires_grad=True,dtype=torch.float)\n",
        "x = x.view(50,1)\n",
        "y = torch.tensor(y, requires_grad=True,dtype=torch.float)\n",
        "y = y.view(50,1)\n",
        "\n",
        "#2 Fully connected network   -------------------\n",
        "# 13 feature > 512> 512 > 1\n",
        "# loss function MSE (y-activation)^2\n",
        "# activation function ReLU\n",
        "# Self> model1 = Neural_Net(13,1)\n",
        "print(\"data size {}\".format(x.shape))\n",
        "\n",
        "class Neural_Net(nn.Module):\n",
        "    def __init__(self,input_size,hidden_size1,hidden_size2,output_size):\n",
        "        super(Neural_Net,self).__init__()\n",
        "        self.Linear1 = nn.Linear(input_size,hidden_size1)\n",
        "        self.Linear2 = nn.Linear(hidden_size1,hidden_size2)\n",
        "        self.Linear3 = nn.Linear(hidden_size2,output_size)\n",
        "        self.activation = nn.ReLU()\n",
        "\n",
        "    def forward(self,x):\n",
        "        output = self.Linear1(x)\n",
        "        output = self.activation(output)\n",
        "        output = self.Linear2(output)\n",
        "        output = self.activation(output)\n",
        "        output = self.Linear3(output)\n",
        "\n",
        "        # Consider adding activation function\n",
        "        return output\n",
        "\n",
        "model = Neural_Net(1,128,64,1)\n",
        "# Training\n",
        "criterion = nn.L1Loss()\n",
        "epochs = 500\n",
        "optimizer = torch.optim.SGD(model.parameters(),lr=0.003,momentum=0.9)\n",
        "plot_loss=[]\n",
        "\n",
        "for epoch in range(epochs):\n",
        "    optimizer.zero_grad()\n",
        "    output = model(x)\n",
        "    loss = criterion(output,y)\n",
        "    loss.backward()\n",
        "    optimizer.step()\n",
        "    plot_loss.append(loss)\n",
        "\n",
        "plot_array = [i.detach().numpy() for i in plot_loss]\n",
        "plt.plot(range(epochs),plot_array )\n",
        "plt.show()\n",
        "\n",
        "print(f'model first 5 output: {output[20:25]} ')\n",
        "print(f'label: {y[20:25]}')\n",
        "print(f'loss: {loss}')"
      ]
    },
    {
      "cell_type": "code",
      "source": [
        "import numpy as np\n",
        "import torch\n",
        "import torch.nn as nn\n",
        "import matplotlib.pyplot as plt\n",
        "from sklearn.datasets import load_iris\n",
        "import sklearn\n",
        "import pandas as pd\n",
        "data = load_iris()\n",
        "data.target[[110, 65, 50]] # 0-50 arasi 0, 51-100 1, 101-149 2 bunlar indis\n",
        "list(data.target_names)\n",
        "\n",
        "data,target = sklearn.datasets.load_iris(return_X_y=True, as_frame=False)\n",
        "\n",
        "x = data[0:50,1]\n",
        "y = data[0:50,0]\n",
        "print(x.shape)\n",
        "print(y.shape)\n",
        "\n",
        "plt.plot(x,y,'ro')\n",
        "plt.show()\n",
        "\n",
        "x = torch.tensor(x, requires_grad=True,dtype=torch.float)\n",
        "x = x.view(50,1)\n",
        "y = torch.tensor(y, requires_grad=True,dtype=torch.float)\n",
        "y = y.view(50,1)\n",
        "\n",
        "class Neural_Net(nn.Module):\n",
        "    def __init__(self,input_size,hidden_size,output_size):\n",
        "        super(Neural_Net,self).__init__()\n",
        "        self.Linear1 = nn.Linear(input_size,hidden_size)\n",
        "        self.Linear2 = nn.Linear(hidden_size,hidden_size)\n",
        "        self.Linear3 = nn.Linear(hidden_size,output_size)\n",
        "        self.activation = nn.Sigmoid()\n",
        "\n",
        "    def forward(self,x):\n",
        "        output = self.Linear1(x)\n",
        "        output = self.activation(output)\n",
        "        output = self.Linear2(output)\n",
        "        output = self.activation(output)\n",
        "        output = self.Linear3(output)\n",
        "        # Consider adding activation function\n",
        "        return output\n",
        "\n",
        "model = Neural_Net(1,64,1) \n",
        "# Training\n",
        "criterion = nn.L1Loss()\n",
        "epochs = 500\n",
        "optimizer = torch.optim.SGD(model.parameters(),lr=0.003,momentum=0.9)\n",
        "plot_loss=[]\n",
        "\n",
        "for epoch in range(epochs):\n",
        "    optimizer.zero_grad()\n",
        "    output = model(x)\n",
        "    loss = criterion(output,y)\n",
        "    loss.backward()\n",
        "    optimizer.step()\n",
        "    plot_loss.append(loss)\n",
        "\n",
        "plot_array = [i.detach().numpy() for i in plot_loss]\n",
        "plt.plot(range(epochs),plot_array )\n",
        "plt.show()\n",
        "\n",
        "print(f'model first 5 output: {output[20:25]} ')\n",
        "print(f'label: {y[20:25]}')\n",
        "print(f'loss: {loss}')"
      ],
      "metadata": {
        "id": "QMGY0DSF2lv2",
        "colab": {
          "base_uri": "https://localhost:8080/",
          "height": 745
        },
        "outputId": "1dc3bbf8-5706-465d-cbfc-68aa80396b95"
      },
      "execution_count": 21,
      "outputs": [
        {
          "output_type": "stream",
          "name": "stdout",
          "text": [
            "(50,)\n",
            "(50,)\n"
          ]
        },
        {
          "output_type": "display_data",
          "data": {
            "text/plain": [
              "<Figure size 432x288 with 1 Axes>"
            ],
            "image/png": "[encoded data removed]"
          },
          "metadata": {
            "needs_background": "light"
          }
        },
        {
          "output_type": "display_data",
          "data": {
            "text/plain": [
              "<Figure size 432x288 with 1 Axes>"
            ],
            "image/png": "[encoded data removed]"
          },
          "metadata": {
            "needs_background": "light"
          }
        },
        {
          "output_type": "stream",
          "name": "stdout",
          "text": [
            "model first 5 output: tensor([[5.0051],\n",
            "        [5.0213],\n",
            "        [5.0161],\n",
            "        [4.9992],\n",
            "        [5.0051]], grad_fn=<SliceBackward0>) \n",
            "label: tensor([[5.4000],\n",
            "        [5.1000],\n",
            "        [4.6000],\n",
            "        [5.1000],\n",
            "        [4.8000]], grad_fn=<SliceBackward0>)\n",
            "loss: 0.2575661540031433\n"
          ]
        }
      ]
    },
    {
      "cell_type": "code",
      "source": [
        "import numpy as np\n",
        "import torch\n",
        "import torch.nn as nn\n",
        "import matplotlib.pyplot as plt\n",
        "from sklearn.datasets import load_iris\n",
        "import sklearn\n",
        "import pandas as pd\n",
        "data = load_iris()\n",
        "data.target[[110, 65, 50]] # 0-50 arasi 0, 51-100 1, 101-149 2 bunlar indis\n",
        "list(data.target_names)\n",
        "\n",
        "data,target = sklearn.datasets.load_iris(return_X_y=True, as_frame=False)\n",
        "\n",
        "x = data[0:50,1]\n",
        "y = data[0:50,0]\n",
        "print(x.shape)\n",
        "print(y.shape)\n",
        "\n",
        "plt.plot(x,y,'ro')\n",
        "plt.show()\n",
        "\n",
        "x = torch.tensor(x, requires_grad=True,dtype=torch.float)\n",
        "x = x.view(50,1)\n",
        "y = torch.tensor(y, requires_grad=True,dtype=torch.float)\n",
        "y = y.view(50,1)\n",
        "# simdi bunda ayni seyleri deneriz\n",
        "\n",
        "class Neural_Net(nn.Module):\n",
        "    def __init__(self,input_size,hidden_size,output_size):\n",
        "        super(Neural_Net,self).__init__()\n",
        "        self.Linear1 = nn.Linear(input_size,hidden_size)\n",
        "        self.Linear2 = nn.Linear(hidden_size,hidden_size)\n",
        "        self.Linear4 = nn.Linear(hidden_size,output_size)\n",
        "        self.activation = nn.Sigmoid()\n",
        "\n",
        "    def forward(self,x):\n",
        "        output = self.Linear1(x)\n",
        "        output = self.activation(output)\n",
        "        output = self.Linear2(output)\n",
        "        output = self.activation(output)\n",
        "        output = self.Linear4(output)\n",
        "        # Consider adding activation function\n",
        "        return output\n",
        "\n",
        "model = Neural_Net(1,128,1) # belki giris 150 ??\n",
        "\n",
        "\n",
        "# Training\n",
        "criterion = nn.MSELoss()\n",
        "\n",
        "epochs = 500\n",
        "\n",
        "optimizer = torch.optim.SGD(model.parameters(),lr=0.003,momentum=0.9)\n",
        "plot_loss=[]\n",
        "all_outputs = []\n",
        "for epoch in range(epochs):\n",
        "\n",
        "    optimizer.zero_grad()\n",
        "    output = model(x) # yeni data kucuk x\n",
        "    loss = criterion(y,output)\n",
        "    loss.backward()\n",
        "    optimizer.step()\n",
        "    plot_loss.append(loss)\n",
        "    all_outputs.append(output)\n",
        "plot_array = [i.detach().numpy() for i in plot_loss]\n",
        "plt.plot(range(epochs),plot_array )\n",
        "plt.show()\n",
        "\n",
        "print(f'model first 5 output: {output[20:25]} ')\n",
        "print(f'label: {y[20:25]}')\n",
        "print(f'loss: {loss}')"
      ],
      "metadata": {
        "id": "jVSLJmlI3ILn",
        "colab": {
          "base_uri": "https://localhost:8080/",
          "height": 745
        },
        "outputId": "bb469991-44e0-45ca-cb72-4d833e81ad08"
      },
      "execution_count": 20,
      "outputs": [
        {
          "output_type": "stream",
          "name": "stdout",
          "text": [
            "(50,)\n",
            "(50,)\n"
          ]
        },
        {
          "output_type": "display_data",
          "data": {
            "text/plain": [
              "<Figure size 432x288 with 1 Axes>"
            ],
            "image/png": "[encoded data removed]"
          },
          "metadata": {
            "needs_background": "light"
          }
        },
        {
          "output_type": "display_data",
          "data": {
            "text/plain": [
              "<Figure size 432x288 with 1 Axes>"
            ],
            "image/png": "[encoded data removed]"
          },
          "metadata": {
            "needs_background": "light"
          }
        },
        {
          "output_type": "stream",
          "name": "stdout",
          "text": [
            "model first 5 output: tensor([[5.0059],\n",
            "        [5.0145],\n",
            "        [5.0117],\n",
            "        [5.0031],\n",
            "        [5.0059]], grad_fn=<SliceBackward0>) \n",
            "label: tensor([[5.4000],\n",
            "        [5.1000],\n",
            "        [4.6000],\n",
            "        [5.1000],\n",
            "        [4.8000]], grad_fn=<SliceBackward0>)\n",
            "loss: 0.11639413237571716\n"
          ]
        }
      ]
    },
    {
      "cell_type": "code",
      "source": [],
      "metadata": {
        "id": "Q3lyzf_SDe0q"
      },
      "execution_count": null,
      "outputs": []
    }
  ]
}