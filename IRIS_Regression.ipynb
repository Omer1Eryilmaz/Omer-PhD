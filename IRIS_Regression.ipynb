{
  "cells": [
    {
      "cell_type": "code",
      "execution_count": 29,
      "metadata": {
        "colab": {
          "base_uri": "https://localhost:8080/",
          "height": 763
        },
        "id": "MwWp-fiSqTvT",
        "outputId": "abe21936-77be-4165-ec60-a115f24faf8e"
      },
      "outputs": [
        {
          "name": "stdout",
          "output_type": "stream",
          "text": [
            "(100, 1)\n",
            "(100, 1)\n",
            "data size torch.Size([100, 1])\n"
          ]
        },
        {
          "data": {
            "image/png": "[encoded data removed]",
            "text/plain": [
              "<Figure size 432x288 with 1 Axes>"
            ]
          },
          "metadata": {
            "needs_background": "light"
          },
          "output_type": "display_data"
        },
        {
          "name": "stdout",
          "output_type": "stream",
          "text": [
            "model first 5 output: tensor([[3.2200],\n",
            "        [4.8207],\n",
            "        [3.4327],\n",
            "        [5.1170],\n",
            "        [3.3270]], grad_fn=<SliceBackward0>) \n",
            "label: tensor([[3.2000],\n",
            "        [4.6000],\n",
            "        [3.1000],\n",
            "        [5.0000],\n",
            "        [3.6000]], grad_fn=<SliceBackward0>)\n",
            "loss: 0.24671636521816254\n"
          ]
        }
      ],
      "source": [
        "import numpy as np\n",
        "import torch\n",
        "import torch.nn as nn\n",
        "import matplotlib.pyplot as plt\n",
        "from sklearn.datasets import load_iris\n",
        "import sklearn\n",
        "import pandas as pd\n",
        "data = load_iris()\n",
        "data.target[[110, 65, 50]] # 0-50 arasi 0, 51-100 1, 101-149 2 bunlar indis\n",
        "list(data.target_names)\n",
        "\n",
        "data,target = sklearn.datasets.load_iris(return_X_y=True, as_frame=False)\n",
        "\n",
        "from sklearn.preprocessing import StandardScaler\n",
        "\n",
        "x = data[0:50,(1,2)]\n",
        "y = data[0:50,(0,1)]\n",
        "x=x.reshape(-1, 1) \n",
        "\n",
        "print(x.shape)\n",
        "y=y.reshape(-1, 1) \n",
        "print(y.shape)\n",
        "\n",
        "#plt.plot(x,y,'ro')\n",
        "#plt.show()\n",
        "\n",
        "x = torch.tensor(x, requires_grad=True,dtype=torch.float)\n",
        "y = torch.tensor(y, requires_grad=True,dtype=torch.float)\n",
        "\n",
        "\n",
        "#2 Fully connected network   -------------------\n",
        "# 13 feature > 512> 512 > 1\n",
        "# loss function MSE (y-activation)^2\n",
        "# activation function ReLU\n",
        "# Self> model1 = Neural_Net(13,1)\n",
        "print(\"data size {}\".format(x.shape))\n",
        "\n",
        "class Neural_Net(nn.Module):\n",
        "    def __init__(self,input_size,hidden_size1,hidden_size2,output_size):\n",
        "        super(Neural_Net,self).__init__()\n",
        "        self.Linear1 = nn.Linear(input_size,hidden_size1)\n",
        "        self.Linear2 = nn.Linear(hidden_size1,hidden_size2)\n",
        "        self.Linear3 = nn.Linear(hidden_size2,output_size)\n",
        "        self.activation = nn.Sigmoid()\n",
        "\n",
        "    def forward(self,x):\n",
        "        output = self.Linear1(x)\n",
        "        output = self.activation(output)\n",
        "        output = self.Linear2(output)\n",
        "        output = self.activation(output)\n",
        "        output = self.Linear3(output)\n",
        "\n",
        "        # Consider adding activation function\n",
        "        return output\n",
        "\n",
        "model = Neural_Net(1,128,64,1)\n",
        "# Training\n",
        "criterion = nn.L1Loss()\n",
        "epochs = 500\n",
        "optimizer = torch.optim.SGD(model.parameters(),lr=0.003,momentum=0.9)\n",
        "plot_loss=[]\n",
        "\n",
        "for epoch in range(epochs):\n",
        "    optimizer.zero_grad()\n",
        "    output = model(x)\n",
        "    loss = criterion(output,y)\n",
        "    loss.backward()\n",
        "    optimizer.step()\n",
        "    plot_loss.append(loss)\n",
        "\n",
        "plot_array = [i.detach().numpy() for i in plot_loss]\n",
        "plt.plot(range(epochs),plot_array )\n",
        "plt.show()\n",
        "\n",
        "print(f'model first 5 output: {output[5:10]} ')\n",
        "print(f'label: {y[5:10]}')\n",
        "print(f'loss: {loss}')"
      ]
    },
    {
      "cell_type": "code",
      "execution_count": 13,
      "metadata": {
        "colab": {
          "base_uri": "https://localhost:8080/",
          "height": 745
        },
        "id": "QMGY0DSF2lv2",
        "outputId": "1dc3bbf8-5706-465d-cbfc-68aa80396b95"
      },
      "outputs": [
        {
          "name": "stdout",
          "output_type": "stream",
          "text": [
            "(50,)\n",
            "(50,)\n"
          ]
        },
        {
          "data": {
            "image/png": "[encoded data removed]",
            "text/plain": [
              "<Figure size 432x288 with 1 Axes>"
            ]
          },
          "metadata": {
            "needs_background": "light"
          },
          "output_type": "display_data"
        },
        {
          "data": {
            "image/png": "[encoded data removed]",
            "text/plain": [
              "<Figure size 432x288 with 1 Axes>"
            ]
          },
          "metadata": {
            "needs_background": "light"
          },
          "output_type": "display_data"
        },
        {
          "name": "stdout",
          "output_type": "stream",
          "text": [
            "model first 5 output: tensor([[-0.0869],\n",
            "        [-0.0879],\n",
            "        [-0.0876],\n",
            "        [-0.0865],\n",
            "        [-0.0869]], grad_fn=<SliceBackward0>) \n",
            "label: tensor([[5.4000],\n",
            "        [5.1000],\n",
            "        [4.6000],\n",
            "        [5.1000],\n",
            "        [4.8000]], grad_fn=<SliceBackward0>)\n",
            "loss: 5.092960357666016\n"
          ]
        }
      ],
      "source": [
        "import numpy as np\n",
        "import torch\n",
        "import torch.nn as nn\n",
        "import matplotlib.pyplot as plt\n",
        "from sklearn.datasets import load_iris\n",
        "import sklearn\n",
        "import pandas as pd\n",
        "data = load_iris()\n",
        "data.target[[110, 65, 50]] # 0-50 arasi 0, 51-100 1, 101-149 2 bunlar indis\n",
        "list(data.target_names)\n",
        "\n",
        "data,target = sklearn.datasets.load_iris(return_X_y=True, as_frame=False)\n",
        "\n",
        "x = data[0:50,1]\n",
        "y = data[0:50,0]\n",
        "print(x.shape)\n",
        "print(y.shape)\n",
        "\n",
        "plt.plot(x,y,'ro')\n",
        "plt.show()\n",
        "\n",
        "x = torch.tensor(x, requires_grad=True,dtype=torch.float)\n",
        "x = x.view(50,1)\n",
        "y = torch.tensor(y, requires_grad=True,dtype=torch.float)\n",
        "y = y.view(50,1)\n",
        "\n",
        "class Neural_Net(nn.Module):\n",
        "    def __init__(self,input_size,hidden_size,output_size):\n",
        "        super(Neural_Net,self).__init__()\n",
        "        self.Linear1 = nn.Linear(input_size,hidden_size)\n",
        "        self.Linear2 = nn.Linear(hidden_size,hidden_size)\n",
        "        self.Linear3 = nn.Linear(hidden_size,output_size)\n",
        "        self.activation = nn.Sigmoid()\n",
        "\n",
        "    def forward(self,x):\n",
        "        output = self.Linear1(x)\n",
        "        output = self.activation(output)\n",
        "        output = self.Linear2(output)\n",
        "        output = self.activation(output)\n",
        "        output = self.Linear3(output)\n",
        "        # Consider adding activation function\n",
        "        return output\n",
        "\n",
        "model = Neural_Net(1,2,1) \n",
        "# Training\n",
        "criterion = nn.L1Loss()\n",
        "epochs = 100\n",
        "optimizer = torch.optim.SGD(model.parameters(),lr=0.003,momentum=0.9)\n",
        "plot_loss=[]\n",
        "\n",
        "for epoch in range(epochs):\n",
        "    optimizer.zero_grad()\n",
        "    output = model(x)\n",
        "    loss = criterion(output,y)\n",
        "    loss.backward()\n",
        "    optimizer.step()\n",
        "    plot_loss.append(loss)\n",
        "\n",
        "plot_array = [i.detach().numpy() for i in plot_loss]\n",
        "plt.plot(range(epochs),plot_array )\n",
        "plt.show()\n",
        "\n",
        "print(f'model first 5 output: {output[20:25]} ')\n",
        "print(f'label: {y[20:25]}')\n",
        "print(f'loss: {loss}')"
      ]
    },
    {
      "cell_type": "code",
      "execution_count": 15,
      "metadata": {
        "colab": {
          "base_uri": "https://localhost:8080/",
          "height": 745
        },
        "id": "jVSLJmlI3ILn",
        "outputId": "bb469991-44e0-45ca-cb72-4d833e81ad08"
      },
      "outputs": [
        {
          "name": "stdout",
          "output_type": "stream",
          "text": [
            "(50,)\n",
            "(50,)\n"
          ]
        },
        {
          "data": {
            "image/png": "[encoded data removed]",
            "text/plain": [
              "<Figure size 432x288 with 1 Axes>"
            ]
          },
          "metadata": {
            "needs_background": "light"
          },
          "output_type": "display_data"
        },
        {
          "data": {
            "image/png": "[encoded data removed]",
            "text/plain": [
              "<Figure size 432x288 with 1 Axes>"
            ]
          },
          "metadata": {
            "needs_background": "light"
          },
          "output_type": "display_data"
        },
        {
          "name": "stdout",
          "output_type": "stream",
          "text": [
            "model first 5 output: tensor([[5.0040],\n",
            "        [5.0478],\n",
            "        [5.0335],\n",
            "        [4.9890],\n",
            "        [5.0040]], grad_fn=<SliceBackward0>) \n",
            "label: tensor([[5.4000],\n",
            "        [5.1000],\n",
            "        [4.6000],\n",
            "        [5.1000],\n",
            "        [4.8000]], grad_fn=<SliceBackward0>)\n",
            "loss: 0.0961839109659195\n"
          ]
        }
      ],
      "source": [
        "import numpy as np\n",
        "import torch\n",
        "import torch.nn as nn\n",
        "import matplotlib.pyplot as plt\n",
        "from sklearn.datasets import load_iris\n",
        "import sklearn\n",
        "import pandas as pd\n",
        "data = load_iris()\n",
        "data.target[[110, 65, 50]] # 0-50 arasi 0, 51-100 1, 101-149 2 bunlar indis\n",
        "list(data.target_names)\n",
        "\n",
        "data,target = sklearn.datasets.load_iris(return_X_y=True, as_frame=False)\n",
        "\n",
        "x = data[0:50,1]\n",
        "y = data[0:50,0]\n",
        "print(x.shape)\n",
        "print(y.shape)\n",
        "\n",
        "plt.plot(x,y,'ro')\n",
        "plt.show()\n",
        "\n",
        "x = torch.tensor(x, requires_grad=True,dtype=torch.float)\n",
        "x = x.view(50,1)\n",
        "y = torch.tensor(y, requires_grad=True,dtype=torch.float)\n",
        "y = y.view(50,1)\n",
        "# simdi bunda ayni seyleri deneriz\n",
        "\n",
        "class Neural_Net(nn.Module):\n",
        "    def __init__(self,input_size,hidden_size,output_size):\n",
        "        super(Neural_Net,self).__init__()\n",
        "        self.Linear1 = nn.Linear(input_size,hidden_size)\n",
        "        self.Linear2 = nn.Linear(hidden_size,hidden_size)\n",
        "        self.Linear4 = nn.Linear(hidden_size,output_size)\n",
        "        self.activation = nn.Sigmoid()\n",
        "\n",
        "    def forward(self,x):\n",
        "        output = self.Linear1(x)\n",
        "        output = self.activation(output)\n",
        "        output = self.Linear2(output)\n",
        "        output = self.activation(output)\n",
        "        output = self.Linear4(output)\n",
        "        # Consider adding activation function\n",
        "        return output\n",
        "\n",
        "model = Neural_Net(1,512,1) # belki giris 150 ??\n",
        "\n",
        "\n",
        "# Training\n",
        "criterion = nn.MSELoss()\n",
        "\n",
        "epochs = 500\n",
        "\n",
        "optimizer = torch.optim.SGD(model.parameters(),lr=0.003,momentum=0.9)\n",
        "plot_loss=[]\n",
        "all_outputs = []\n",
        "for epoch in range(epochs):\n",
        "\n",
        "    optimizer.zero_grad()\n",
        "    output = model(x) # yeni data kucuk x\n",
        "    loss = criterion(y,output)\n",
        "    loss.backward()\n",
        "    optimizer.step()\n",
        "    plot_loss.append(loss)\n",
        "    all_outputs.append(output)\n",
        "plot_array = [i.detach().numpy() for i in plot_loss]\n",
        "plt.plot(range(epochs),plot_array )\n",
        "plt.show()\n",
        "\n",
        "print(f'model first 5 output: {output[20:25]} ')\n",
        "print(f'label: {y[20:25]}')\n",
        "print(f'loss: {loss}')"
      ]
    },
    {
      "cell_type": "code",
      "execution_count": null,
      "metadata": {
        "id": "Q3lyzf_SDe0q"
      },
      "outputs": [],
      "source": []
    }
  ],
  "metadata": {
    "colab": {
      "provenance": []
    },
    "kernelspec": {
      "display_name": "Python 3",
      "language": "python",
      "name": "python3"
    },
    "language_info": {
      "codemirror_mode": {
        "name": "ipython",
        "version": 3
      },
      "file_extension": ".py",
      "mimetype": "text/x-python",
      "name": "python",
      "nbconvert_exporter": "python",
      "pygments_lexer": "ipython3",
      "version": "3.9.7"
    },
    "vscode": {
      "interpreter": {
        "hash": "aee8b7b246df8f9039afb4144a1f6fd8d2ca17a180786b69acc140d282b71a49"
      }
    }
  },
  "nbformat": 4,
  "nbformat_minor": 0
}
